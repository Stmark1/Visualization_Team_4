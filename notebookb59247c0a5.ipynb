{
 "cells": [
  {
   "cell_type": "code",
   "execution_count": 1,
   "id": "ede81599",
   "metadata": {
    "_cell_guid": "b1076dfc-b9ad-4769-8c92-a6c4dae69d19",
    "_uuid": "8f2839f25d086af736a60e9eeb907d3b93b6e0e5",
    "execution": {
     "iopub.execute_input": "2022-03-12T20:37:53.361229Z",
     "iopub.status.busy": "2022-03-12T20:37:53.360275Z",
     "iopub.status.idle": "2022-03-12T20:37:53.421634Z",
     "shell.execute_reply": "2022-03-12T20:37:53.420623Z",
     "shell.execute_reply.started": "2022-03-12T20:08:23.869798Z"
    },
    "papermill": {
     "duration": 0.087518,
     "end_time": "2022-03-12T20:37:53.421856",
     "exception": false,
     "start_time": "2022-03-12T20:37:53.334338",
     "status": "completed"
    },
    "tags": []
   },
   "outputs": [
    {
     "name": "stdout",
     "output_type": "stream",
     "text": [
      "/kaggle/input/0db0ed38-868c-40d2-bcbd-bcedb88543cf/sample_submission.csv\n",
      "/kaggle/input/0db0ed38-868c-40d2-bcbd-bcedb88543cf/engine_metadata.csv\n",
      "/kaggle/input/0db0ed38-868c-40d2-bcbd-bcedb88543cf/site_metadata.csv\n",
      "/kaggle/input/0db0ed38-868c-40d2-bcbd-bcedb88543cf/dataset/dataset/data_141.csv\n",
      "/kaggle/input/0db0ed38-868c-40d2-bcbd-bcedb88543cf/dataset/dataset/data_202.csv\n",
      "/kaggle/input/0db0ed38-868c-40d2-bcbd-bcedb88543cf/dataset/dataset/data_26.csv\n",
      "/kaggle/input/0db0ed38-868c-40d2-bcbd-bcedb88543cf/dataset/dataset/data_165.csv\n",
      "/kaggle/input/0db0ed38-868c-40d2-bcbd-bcedb88543cf/dataset/dataset/data_124.csv\n",
      "/kaggle/input/0db0ed38-868c-40d2-bcbd-bcedb88543cf/dataset/dataset/data_178.csv\n",
      "/kaggle/input/0db0ed38-868c-40d2-bcbd-bcedb88543cf/dataset/dataset/data_33.csv\n",
      "/kaggle/input/0db0ed38-868c-40d2-bcbd-bcedb88543cf/dataset/dataset/data_49.csv\n",
      "/kaggle/input/0db0ed38-868c-40d2-bcbd-bcedb88543cf/dataset/dataset/data_79.csv\n",
      "/kaggle/input/0db0ed38-868c-40d2-bcbd-bcedb88543cf/dataset/dataset/data_158.csv\n",
      "/kaggle/input/0db0ed38-868c-40d2-bcbd-bcedb88543cf/dataset/dataset/data_44.csv\n",
      "/kaggle/input/0db0ed38-868c-40d2-bcbd-bcedb88543cf/dataset/dataset/data_128.csv\n",
      "/kaggle/input/0db0ed38-868c-40d2-bcbd-bcedb88543cf/dataset/dataset/data_137.csv\n",
      "/kaggle/input/0db0ed38-868c-40d2-bcbd-bcedb88543cf/dataset/dataset/data_87.csv\n",
      "/kaggle/input/0db0ed38-868c-40d2-bcbd-bcedb88543cf/dataset/dataset/data_38.csv\n",
      "/kaggle/input/0db0ed38-868c-40d2-bcbd-bcedb88543cf/dataset/dataset/data_22.csv\n",
      "/kaggle/input/0db0ed38-868c-40d2-bcbd-bcedb88543cf/dataset/dataset/data_125.csv\n",
      "/kaggle/input/0db0ed38-868c-40d2-bcbd-bcedb88543cf/dataset/dataset/data_203.csv\n",
      "/kaggle/input/0db0ed38-868c-40d2-bcbd-bcedb88543cf/dataset/dataset/data_207.csv\n",
      "/kaggle/input/0db0ed38-868c-40d2-bcbd-bcedb88543cf/dataset/dataset/data_184.csv\n",
      "/kaggle/input/0db0ed38-868c-40d2-bcbd-bcedb88543cf/dataset/dataset/data_142.csv\n",
      "/kaggle/input/0db0ed38-868c-40d2-bcbd-bcedb88543cf/dataset/dataset/data_30.csv\n",
      "/kaggle/input/0db0ed38-868c-40d2-bcbd-bcedb88543cf/dataset/dataset/data_57.csv\n",
      "/kaggle/input/0db0ed38-868c-40d2-bcbd-bcedb88543cf/dataset/dataset/data_134.csv\n",
      "/kaggle/input/0db0ed38-868c-40d2-bcbd-bcedb88543cf/dataset/dataset/data_197.csv\n",
      "/kaggle/input/0db0ed38-868c-40d2-bcbd-bcedb88543cf/dataset/dataset/data_46.csv\n",
      "/kaggle/input/0db0ed38-868c-40d2-bcbd-bcedb88543cf/dataset/dataset/data_177.csv\n",
      "/kaggle/input/0db0ed38-868c-40d2-bcbd-bcedb88543cf/dataset/dataset/data_58.csv\n",
      "/kaggle/input/0db0ed38-868c-40d2-bcbd-bcedb88543cf/dataset/dataset/data_160.csv\n",
      "/kaggle/input/0db0ed38-868c-40d2-bcbd-bcedb88543cf/dataset/dataset/data_21.csv\n",
      "/kaggle/input/0db0ed38-868c-40d2-bcbd-bcedb88543cf/dataset/dataset/data_77.csv\n",
      "/kaggle/input/0db0ed38-868c-40d2-bcbd-bcedb88543cf/dataset/dataset/data_183.csv\n",
      "/kaggle/input/0db0ed38-868c-40d2-bcbd-bcedb88543cf/dataset/dataset/data_119.csv\n",
      "/kaggle/input/0db0ed38-868c-40d2-bcbd-bcedb88543cf/dataset/dataset/data_120.csv\n",
      "/kaggle/input/0db0ed38-868c-40d2-bcbd-bcedb88543cf/dataset/dataset/data_108.csv\n",
      "/kaggle/input/0db0ed38-868c-40d2-bcbd-bcedb88543cf/dataset/dataset/data_59.csv\n",
      "/kaggle/input/0db0ed38-868c-40d2-bcbd-bcedb88543cf/dataset/dataset/data_180.csv\n",
      "/kaggle/input/0db0ed38-868c-40d2-bcbd-bcedb88543cf/dataset/dataset/data_32.csv\n",
      "/kaggle/input/0db0ed38-868c-40d2-bcbd-bcedb88543cf/dataset/dataset/data_171.csv\n",
      "/kaggle/input/0db0ed38-868c-40d2-bcbd-bcedb88543cf/dataset/dataset/data_69.csv\n",
      "/kaggle/input/0db0ed38-868c-40d2-bcbd-bcedb88543cf/dataset/dataset/data_127.csv\n",
      "/kaggle/input/0db0ed38-868c-40d2-bcbd-bcedb88543cf/dataset/dataset/data_19.csv\n",
      "/kaggle/input/0db0ed38-868c-40d2-bcbd-bcedb88543cf/dataset/dataset/data_109.csv\n",
      "/kaggle/input/0db0ed38-868c-40d2-bcbd-bcedb88543cf/dataset/dataset/data_155.csv\n",
      "/kaggle/input/0db0ed38-868c-40d2-bcbd-bcedb88543cf/dataset/dataset/data_107.csv\n",
      "/kaggle/input/0db0ed38-868c-40d2-bcbd-bcedb88543cf/dataset/dataset/data_101.csv\n",
      "/kaggle/input/0db0ed38-868c-40d2-bcbd-bcedb88543cf/dataset/dataset/data_135.csv\n",
      "/kaggle/input/0db0ed38-868c-40d2-bcbd-bcedb88543cf/dataset/dataset/data_210.csv\n",
      "/kaggle/input/0db0ed38-868c-40d2-bcbd-bcedb88543cf/dataset/dataset/data_195.csv\n",
      "/kaggle/input/0db0ed38-868c-40d2-bcbd-bcedb88543cf/dataset/dataset/data_47.csv\n",
      "/kaggle/input/0db0ed38-868c-40d2-bcbd-bcedb88543cf/dataset/dataset/data_14.csv\n",
      "/kaggle/input/0db0ed38-868c-40d2-bcbd-bcedb88543cf/dataset/dataset/data_147.csv\n",
      "/kaggle/input/0db0ed38-868c-40d2-bcbd-bcedb88543cf/dataset/dataset/data_118.csv\n",
      "/kaggle/input/0db0ed38-868c-40d2-bcbd-bcedb88543cf/dataset/dataset/data_98.csv\n",
      "/kaggle/input/0db0ed38-868c-40d2-bcbd-bcedb88543cf/dataset/dataset/data_9.csv\n",
      "/kaggle/input/0db0ed38-868c-40d2-bcbd-bcedb88543cf/dataset/dataset/data_52.csv\n",
      "/kaggle/input/0db0ed38-868c-40d2-bcbd-bcedb88543cf/dataset/dataset/data_143.csv\n",
      "/kaggle/input/0db0ed38-868c-40d2-bcbd-bcedb88543cf/dataset/dataset/data_190.csv\n",
      "/kaggle/input/0db0ed38-868c-40d2-bcbd-bcedb88543cf/dataset/dataset/data_84.csv\n",
      "/kaggle/input/0db0ed38-868c-40d2-bcbd-bcedb88543cf/dataset/dataset/data_209.csv\n",
      "/kaggle/input/0db0ed38-868c-40d2-bcbd-bcedb88543cf/dataset/dataset/data_18.csv\n",
      "/kaggle/input/0db0ed38-868c-40d2-bcbd-bcedb88543cf/dataset/dataset/data_53.csv\n",
      "/kaggle/input/0db0ed38-868c-40d2-bcbd-bcedb88543cf/dataset/dataset/data_73.csv\n",
      "/kaggle/input/0db0ed38-868c-40d2-bcbd-bcedb88543cf/dataset/dataset/data_186.csv\n",
      "/kaggle/input/0db0ed38-868c-40d2-bcbd-bcedb88543cf/dataset/dataset/data_63.csv\n",
      "/kaggle/input/0db0ed38-868c-40d2-bcbd-bcedb88543cf/dataset/dataset/data_70.csv\n",
      "/kaggle/input/0db0ed38-868c-40d2-bcbd-bcedb88543cf/dataset/dataset/data_90.csv\n",
      "/kaggle/input/0db0ed38-868c-40d2-bcbd-bcedb88543cf/dataset/dataset/data_17.csv\n",
      "/kaggle/input/0db0ed38-868c-40d2-bcbd-bcedb88543cf/dataset/dataset/data_7.csv\n",
      "/kaggle/input/0db0ed38-868c-40d2-bcbd-bcedb88543cf/dataset/dataset/data_152.csv\n",
      "/kaggle/input/0db0ed38-868c-40d2-bcbd-bcedb88543cf/dataset/dataset/data_144.csv\n",
      "/kaggle/input/0db0ed38-868c-40d2-bcbd-bcedb88543cf/dataset/dataset/data_67.csv\n",
      "/kaggle/input/0db0ed38-868c-40d2-bcbd-bcedb88543cf/dataset/dataset/data_175.csv\n",
      "/kaggle/input/0db0ed38-868c-40d2-bcbd-bcedb88543cf/dataset/dataset/data_81.csv\n",
      "/kaggle/input/0db0ed38-868c-40d2-bcbd-bcedb88543cf/dataset/dataset/data_86.csv\n",
      "/kaggle/input/0db0ed38-868c-40d2-bcbd-bcedb88543cf/dataset/dataset/data_105.csv\n",
      "/kaggle/input/0db0ed38-868c-40d2-bcbd-bcedb88543cf/dataset/dataset/data_179.csv\n",
      "/kaggle/input/0db0ed38-868c-40d2-bcbd-bcedb88543cf/dataset/dataset/data_11.csv\n",
      "/kaggle/input/0db0ed38-868c-40d2-bcbd-bcedb88543cf/dataset/dataset/data_201.csv\n",
      "/kaggle/input/0db0ed38-868c-40d2-bcbd-bcedb88543cf/dataset/dataset/data_191.csv\n",
      "/kaggle/input/0db0ed38-868c-40d2-bcbd-bcedb88543cf/dataset/dataset/data_145.csv\n",
      "/kaggle/input/0db0ed38-868c-40d2-bcbd-bcedb88543cf/dataset/dataset/data_212.csv\n",
      "/kaggle/input/0db0ed38-868c-40d2-bcbd-bcedb88543cf/dataset/dataset/data_185.csv\n",
      "/kaggle/input/0db0ed38-868c-40d2-bcbd-bcedb88543cf/dataset/dataset/data_102.csv\n",
      "/kaggle/input/0db0ed38-868c-40d2-bcbd-bcedb88543cf/dataset/dataset/data_166.csv\n",
      "/kaggle/input/0db0ed38-868c-40d2-bcbd-bcedb88543cf/dataset/dataset/data_104.csv\n",
      "/kaggle/input/0db0ed38-868c-40d2-bcbd-bcedb88543cf/dataset/dataset/data_110.csv\n",
      "/kaggle/input/0db0ed38-868c-40d2-bcbd-bcedb88543cf/dataset/dataset/data_182.csv\n",
      "/kaggle/input/0db0ed38-868c-40d2-bcbd-bcedb88543cf/dataset/dataset/data_91.csv\n",
      "/kaggle/input/0db0ed38-868c-40d2-bcbd-bcedb88543cf/dataset/dataset/data_192.csv\n",
      "/kaggle/input/0db0ed38-868c-40d2-bcbd-bcedb88543cf/dataset/dataset/data_176.csv\n",
      "/kaggle/input/0db0ed38-868c-40d2-bcbd-bcedb88543cf/dataset/dataset/data_36.csv\n",
      "/kaggle/input/0db0ed38-868c-40d2-bcbd-bcedb88543cf/dataset/dataset/data_168.csv\n",
      "/kaggle/input/0db0ed38-868c-40d2-bcbd-bcedb88543cf/dataset/dataset/data_95.csv\n",
      "/kaggle/input/0db0ed38-868c-40d2-bcbd-bcedb88543cf/dataset/dataset/data_37.csv\n",
      "/kaggle/input/0db0ed38-868c-40d2-bcbd-bcedb88543cf/dataset/dataset/data_40.csv\n",
      "/kaggle/input/0db0ed38-868c-40d2-bcbd-bcedb88543cf/dataset/dataset/data_194.csv\n",
      "/kaggle/input/0db0ed38-868c-40d2-bcbd-bcedb88543cf/dataset/dataset/data_66.csv\n",
      "/kaggle/input/0db0ed38-868c-40d2-bcbd-bcedb88543cf/dataset/dataset/data_211.csv\n",
      "/kaggle/input/0db0ed38-868c-40d2-bcbd-bcedb88543cf/dataset/dataset/data_117.csv\n",
      "/kaggle/input/0db0ed38-868c-40d2-bcbd-bcedb88543cf/dataset/dataset/data_122.csv\n",
      "/kaggle/input/0db0ed38-868c-40d2-bcbd-bcedb88543cf/dataset/dataset/data_130.csv\n",
      "/kaggle/input/0db0ed38-868c-40d2-bcbd-bcedb88543cf/dataset/dataset/data_196.csv\n",
      "/kaggle/input/0db0ed38-868c-40d2-bcbd-bcedb88543cf/dataset/dataset/data_204.csv\n",
      "/kaggle/input/0db0ed38-868c-40d2-bcbd-bcedb88543cf/dataset/dataset/data_131.csv\n",
      "/kaggle/input/0db0ed38-868c-40d2-bcbd-bcedb88543cf/dataset/dataset/data_159.csv\n",
      "/kaggle/input/0db0ed38-868c-40d2-bcbd-bcedb88543cf/dataset/dataset/data_172.csv\n",
      "/kaggle/input/0db0ed38-868c-40d2-bcbd-bcedb88543cf/dataset/dataset/data_133.csv\n",
      "/kaggle/input/0db0ed38-868c-40d2-bcbd-bcedb88543cf/dataset/dataset/data_199.csv\n",
      "/kaggle/input/0db0ed38-868c-40d2-bcbd-bcedb88543cf/dataset/dataset/data_94.csv\n",
      "/kaggle/input/0db0ed38-868c-40d2-bcbd-bcedb88543cf/dataset/dataset/data_24.csv\n",
      "/kaggle/input/0db0ed38-868c-40d2-bcbd-bcedb88543cf/dataset/dataset/data_146.csv\n",
      "/kaggle/input/0db0ed38-868c-40d2-bcbd-bcedb88543cf/dataset/dataset/data_170.csv\n",
      "/kaggle/input/0db0ed38-868c-40d2-bcbd-bcedb88543cf/dataset/dataset/data_100.csv\n",
      "/kaggle/input/0db0ed38-868c-40d2-bcbd-bcedb88543cf/dataset/dataset/data_208.csv\n",
      "/kaggle/input/0db0ed38-868c-40d2-bcbd-bcedb88543cf/dataset/dataset/data_16.csv\n",
      "/kaggle/input/0db0ed38-868c-40d2-bcbd-bcedb88543cf/dataset/dataset/data_187.csv\n",
      "/kaggle/input/0db0ed38-868c-40d2-bcbd-bcedb88543cf/dataset/dataset/data_161.csv\n",
      "/kaggle/input/0db0ed38-868c-40d2-bcbd-bcedb88543cf/dataset/dataset/data_193.csv\n",
      "/kaggle/input/0db0ed38-868c-40d2-bcbd-bcedb88543cf/dataset/dataset/data_106.csv\n",
      "/kaggle/input/0db0ed38-868c-40d2-bcbd-bcedb88543cf/dataset/dataset/data_76.csv\n",
      "/kaggle/input/0db0ed38-868c-40d2-bcbd-bcedb88543cf/dataset/dataset/data_28.csv\n",
      "/kaggle/input/0db0ed38-868c-40d2-bcbd-bcedb88543cf/dataset/dataset/data_200.csv\n",
      "/kaggle/input/0db0ed38-868c-40d2-bcbd-bcedb88543cf/dataset/dataset/data_20.csv\n",
      "/kaggle/input/0db0ed38-868c-40d2-bcbd-bcedb88543cf/dataset/dataset/data_72.csv\n",
      "/kaggle/input/0db0ed38-868c-40d2-bcbd-bcedb88543cf/dataset/dataset/data_154.csv\n",
      "/kaggle/input/0db0ed38-868c-40d2-bcbd-bcedb88543cf/dataset/dataset/data_189.csv\n",
      "/kaggle/input/0db0ed38-868c-40d2-bcbd-bcedb88543cf/dataset/dataset/data_206.csv\n",
      "/kaggle/input/0db0ed38-868c-40d2-bcbd-bcedb88543cf/dataset/dataset/data_78.csv\n",
      "/kaggle/input/0db0ed38-868c-40d2-bcbd-bcedb88543cf/dataset/dataset/data_157.csv\n",
      "/kaggle/input/0db0ed38-868c-40d2-bcbd-bcedb88543cf/dataset/dataset/data_31.csv\n",
      "/kaggle/input/0db0ed38-868c-40d2-bcbd-bcedb88543cf/dataset/dataset/data_162.csv\n",
      "/kaggle/input/0db0ed38-868c-40d2-bcbd-bcedb88543cf/dataset/dataset/data_174.csv\n",
      "/kaggle/input/0db0ed38-868c-40d2-bcbd-bcedb88543cf/dataset/dataset/data_103.csv\n",
      "/kaggle/input/0db0ed38-868c-40d2-bcbd-bcedb88543cf/dataset/dataset/data_93.csv\n",
      "/kaggle/input/0db0ed38-868c-40d2-bcbd-bcedb88543cf/dataset/dataset/data_150.csv\n",
      "/kaggle/input/0db0ed38-868c-40d2-bcbd-bcedb88543cf/dataset/dataset/data_80.csv\n",
      "/kaggle/input/0db0ed38-868c-40d2-bcbd-bcedb88543cf/dataset/dataset/data_139.csv\n",
      "/kaggle/input/0db0ed38-868c-40d2-bcbd-bcedb88543cf/dataset/dataset/data_92.csv\n",
      "/kaggle/input/0db0ed38-868c-40d2-bcbd-bcedb88543cf/dataset/dataset/data_85.csv\n",
      "/kaggle/input/0db0ed38-868c-40d2-bcbd-bcedb88543cf/dataset/dataset/data_74.csv\n",
      "/kaggle/input/0db0ed38-868c-40d2-bcbd-bcedb88543cf/dataset/dataset/data_181.csv\n",
      "/kaggle/input/0db0ed38-868c-40d2-bcbd-bcedb88543cf/dataset/dataset/data_169.csv\n",
      "/kaggle/input/0db0ed38-868c-40d2-bcbd-bcedb88543cf/dataset/dataset/data_10.csv\n",
      "/kaggle/input/0db0ed38-868c-40d2-bcbd-bcedb88543cf/dataset/dataset/data_6.csv\n",
      "/kaggle/input/0db0ed38-868c-40d2-bcbd-bcedb88543cf/dataset/dataset/data_1.csv\n",
      "/kaggle/input/0db0ed38-868c-40d2-bcbd-bcedb88543cf/dataset/dataset/data_48.csv\n",
      "/kaggle/input/0db0ed38-868c-40d2-bcbd-bcedb88543cf/dataset/dataset/data_126.csv\n",
      "/kaggle/input/0db0ed38-868c-40d2-bcbd-bcedb88543cf/dataset/dataset/data_164.csv\n",
      "/kaggle/input/0db0ed38-868c-40d2-bcbd-bcedb88543cf/dataset/dataset/data_99.csv\n",
      "/kaggle/input/0db0ed38-868c-40d2-bcbd-bcedb88543cf/dataset/dataset/data_75.csv\n",
      "/kaggle/input/0db0ed38-868c-40d2-bcbd-bcedb88543cf/dataset/dataset/data_56.csv\n",
      "/kaggle/input/0db0ed38-868c-40d2-bcbd-bcedb88543cf/dataset/dataset/data_173.csv\n",
      "/kaggle/input/0db0ed38-868c-40d2-bcbd-bcedb88543cf/dataset/dataset/data_129.csv\n",
      "/kaggle/input/0db0ed38-868c-40d2-bcbd-bcedb88543cf/dataset/dataset/data_167.csv\n",
      "/kaggle/input/0db0ed38-868c-40d2-bcbd-bcedb88543cf/dataset/dataset/data_111.csv\n",
      "/kaggle/input/0db0ed38-868c-40d2-bcbd-bcedb88543cf/dataset/dataset/data_34.csv\n",
      "/kaggle/input/0db0ed38-868c-40d2-bcbd-bcedb88543cf/dataset/dataset/data_4.csv\n",
      "/kaggle/input/0db0ed38-868c-40d2-bcbd-bcedb88543cf/dataset/dataset/data_60.csv\n",
      "/kaggle/input/0db0ed38-868c-40d2-bcbd-bcedb88543cf/dataset/dataset/data_43.csv\n",
      "/kaggle/input/0db0ed38-868c-40d2-bcbd-bcedb88543cf/dataset/dataset/data_156.csv\n",
      "/kaggle/input/0db0ed38-868c-40d2-bcbd-bcedb88543cf/dataset/dataset/data_65.csv\n",
      "/kaggle/input/0db0ed38-868c-40d2-bcbd-bcedb88543cf/dataset/dataset/data_153.csv\n",
      "/kaggle/input/0db0ed38-868c-40d2-bcbd-bcedb88543cf/dataset/dataset/data_2.csv\n",
      "/kaggle/input/0db0ed38-868c-40d2-bcbd-bcedb88543cf/dataset/dataset/data_42.csv\n",
      "/kaggle/input/0db0ed38-868c-40d2-bcbd-bcedb88543cf/dataset/dataset/data_198.csv\n",
      "/kaggle/input/0db0ed38-868c-40d2-bcbd-bcedb88543cf/dataset/dataset/data_115.csv\n",
      "/kaggle/input/0db0ed38-868c-40d2-bcbd-bcedb88543cf/dataset/dataset/data_51.csv\n",
      "/kaggle/input/0db0ed38-868c-40d2-bcbd-bcedb88543cf/dataset/dataset/data_12.csv\n",
      "/kaggle/input/0db0ed38-868c-40d2-bcbd-bcedb88543cf/dataset/dataset/data_132.csv\n",
      "/kaggle/input/0db0ed38-868c-40d2-bcbd-bcedb88543cf/dataset/dataset/data_45.csv\n",
      "/kaggle/input/0db0ed38-868c-40d2-bcbd-bcedb88543cf/dataset/dataset/data_25.csv\n",
      "/kaggle/input/0db0ed38-868c-40d2-bcbd-bcedb88543cf/dataset/dataset/data_64.csv\n",
      "/kaggle/input/0db0ed38-868c-40d2-bcbd-bcedb88543cf/dataset/dataset/data_83.csv\n",
      "/kaggle/input/0db0ed38-868c-40d2-bcbd-bcedb88543cf/dataset/dataset/data_188.csv\n",
      "/kaggle/input/0db0ed38-868c-40d2-bcbd-bcedb88543cf/dataset/dataset/data_205.csv\n",
      "/kaggle/input/0db0ed38-868c-40d2-bcbd-bcedb88543cf/dataset/dataset/data_62.csv\n",
      "/kaggle/input/0db0ed38-868c-40d2-bcbd-bcedb88543cf/dataset/dataset/data_27.csv\n",
      "/kaggle/input/0db0ed38-868c-40d2-bcbd-bcedb88543cf/dataset/dataset/data_71.csv\n",
      "/kaggle/input/0db0ed38-868c-40d2-bcbd-bcedb88543cf/dataset/dataset/data_163.csv\n",
      "/kaggle/input/0db0ed38-868c-40d2-bcbd-bcedb88543cf/dataset/dataset/data_8.csv\n",
      "/kaggle/input/0db0ed38-868c-40d2-bcbd-bcedb88543cf/dataset/dataset/data_138.csv\n",
      "/kaggle/input/0db0ed38-868c-40d2-bcbd-bcedb88543cf/dataset/dataset/data_39.csv\n",
      "/kaggle/input/0db0ed38-868c-40d2-bcbd-bcedb88543cf/dataset/dataset/data_23.csv\n",
      "/kaggle/input/0db0ed38-868c-40d2-bcbd-bcedb88543cf/dataset/dataset/data_121.csv\n",
      "/kaggle/input/0db0ed38-868c-40d2-bcbd-bcedb88543cf/dataset/dataset/data_112.csv\n",
      "/kaggle/input/0db0ed38-868c-40d2-bcbd-bcedb88543cf/dataset/dataset/data_35.csv\n",
      "/kaggle/input/0db0ed38-868c-40d2-bcbd-bcedb88543cf/dataset/dataset/data_89.csv\n",
      "/kaggle/input/0db0ed38-868c-40d2-bcbd-bcedb88543cf/dataset/dataset/data_54.csv\n",
      "/kaggle/input/0db0ed38-868c-40d2-bcbd-bcedb88543cf/dataset/dataset/data_41.csv\n",
      "/kaggle/input/0db0ed38-868c-40d2-bcbd-bcedb88543cf/dataset/dataset/data_97.csv\n",
      "/kaggle/input/0db0ed38-868c-40d2-bcbd-bcedb88543cf/dataset/dataset/data_113.csv\n",
      "/kaggle/input/0db0ed38-868c-40d2-bcbd-bcedb88543cf/dataset/dataset/data_50.csv\n",
      "/kaggle/input/0db0ed38-868c-40d2-bcbd-bcedb88543cf/dataset/dataset/data_96.csv\n",
      "/kaggle/input/0db0ed38-868c-40d2-bcbd-bcedb88543cf/dataset/dataset/data_140.csv\n",
      "/kaggle/input/0db0ed38-868c-40d2-bcbd-bcedb88543cf/dataset/dataset/data_5.csv\n",
      "/kaggle/input/0db0ed38-868c-40d2-bcbd-bcedb88543cf/dataset/dataset/data_148.csv\n",
      "/kaggle/input/0db0ed38-868c-40d2-bcbd-bcedb88543cf/dataset/dataset/data_82.csv\n",
      "/kaggle/input/0db0ed38-868c-40d2-bcbd-bcedb88543cf/dataset/dataset/data_213.csv\n",
      "/kaggle/input/0db0ed38-868c-40d2-bcbd-bcedb88543cf/dataset/dataset/data_136.csv\n",
      "/kaggle/input/0db0ed38-868c-40d2-bcbd-bcedb88543cf/dataset/dataset/data_13.csv\n",
      "/kaggle/input/0db0ed38-868c-40d2-bcbd-bcedb88543cf/dataset/dataset/data_68.csv\n",
      "/kaggle/input/0db0ed38-868c-40d2-bcbd-bcedb88543cf/dataset/dataset/data_3.csv\n",
      "/kaggle/input/0db0ed38-868c-40d2-bcbd-bcedb88543cf/dataset/dataset/data_55.csv\n",
      "/kaggle/input/0db0ed38-868c-40d2-bcbd-bcedb88543cf/dataset/dataset/data_149.csv\n",
      "/kaggle/input/0db0ed38-868c-40d2-bcbd-bcedb88543cf/dataset/dataset/data_15.csv\n",
      "/kaggle/input/0db0ed38-868c-40d2-bcbd-bcedb88543cf/dataset/dataset/data_88.csv\n",
      "/kaggle/input/0db0ed38-868c-40d2-bcbd-bcedb88543cf/dataset/dataset/data_114.csv\n",
      "/kaggle/input/0db0ed38-868c-40d2-bcbd-bcedb88543cf/dataset/dataset/data_116.csv\n",
      "/kaggle/input/0db0ed38-868c-40d2-bcbd-bcedb88543cf/dataset/dataset/data_151.csv\n",
      "/kaggle/input/0db0ed38-868c-40d2-bcbd-bcedb88543cf/dataset/dataset/data_61.csv\n",
      "/kaggle/input/0db0ed38-868c-40d2-bcbd-bcedb88543cf/dataset/dataset/data_29.csv\n"
     ]
    }
   ],
   "source": [
    "# This Python 3 environment comes with many helpful analytics libraries installed\n",
    "# It is defined by the kaggle/python Docker image: https://github.com/kaggle/docker-python\n",
    "# For example, here's several helpful packages to load\n",
    "\n",
    "import numpy as np # linear algebra\n",
    "import pandas as pd # data processing, CSV file I/O (e.g. pd.read_csv)\n",
    "\n",
    "# Input data files are available in the read-only \"../input/\" directory\n",
    "# For example, running this (by clicking run or pressing Shift+Enter) will list all files under the input directory\n",
    "\n",
    "import os\n",
    "for dirname, _, filenames in os.walk('/kaggle/input'):\n",
    "    for filename in filenames:\n",
    "        print(os.path.join(dirname, filename))\n",
    "\n",
    "# You can write up to 20GB to the current directory (/kaggle/working/) that gets preserved as output when you create a version using \"Save & Run All\" \n",
    "# You can also write temporary files to /kaggle/temp/, but they won't be saved outside of the current session"
   ]
  },
  {
   "cell_type": "code",
   "execution_count": 2,
   "id": "ee9106c5",
   "metadata": {
    "execution": {
     "iopub.execute_input": "2022-03-12T20:37:53.452046Z",
     "iopub.status.busy": "2022-03-12T20:37:53.451131Z",
     "iopub.status.idle": "2022-03-12T20:37:53.464771Z",
     "shell.execute_reply": "2022-03-12T20:37:53.465196Z",
     "shell.execute_reply.started": "2022-03-12T20:08:28.210399Z"
    },
    "papermill": {
     "duration": 0.029539,
     "end_time": "2022-03-12T20:37:53.465372",
     "exception": false,
     "start_time": "2022-03-12T20:37:53.435833",
     "status": "completed"
    },
    "tags": []
   },
   "outputs": [],
   "source": [
    "engine_metadata = pd.read_csv(\"/kaggle/input/0db0ed38-868c-40d2-bcbd-bcedb88543cf/engine_metadata.csv\")"
   ]
  },
  {
   "cell_type": "code",
   "execution_count": 3,
   "id": "83783455",
   "metadata": {
    "execution": {
     "iopub.execute_input": "2022-03-12T20:37:53.491876Z",
     "iopub.status.busy": "2022-03-12T20:37:53.491312Z",
     "iopub.status.idle": "2022-03-12T20:37:53.504248Z",
     "shell.execute_reply": "2022-03-12T20:37:53.504703Z",
     "shell.execute_reply.started": "2022-03-12T20:11:06.920862Z"
    },
    "papermill": {
     "duration": 0.027397,
     "end_time": "2022-03-12T20:37:53.504864",
     "exception": false,
     "start_time": "2022-03-12T20:37:53.477467",
     "status": "completed"
    },
    "tags": []
   },
   "outputs": [
    {
     "data": {
      "text/plain": [
       "array(['SPIRITUAL-POLECAT', 'NIFTY-ROOK', 'PREHISTORIC-PETREL',\n",
       "       'THERAPEUTIC-LIONFISH', 'ABORIGINAL-PICULET', 'CARMINE-REINDEER',\n",
       "       'IDEALISTIC-DODO', 'ANCIENT-WASP', 'AQUAMARINE-KANGAROO',\n",
       "       'RADIANT-STURGEON', 'CURIOUS-QUAIL', 'SILKY-WEASEL',\n",
       "       'INDIGO-TAPIR', 'PERFECT-MACKEREL', 'ADORABLE-PANTHER',\n",
       "       'CAREFUL-PHEASANT', 'PRECISE-POGONA', 'FIERY-BOBCAT',\n",
       "       'BIPEDAL-UAKARI', 'LUSH-CHIPMUNK', 'HYPERSONIC-BULLDOG',\n",
       "       'TUSCAN-CAPUCHIN', 'MUSTARD-PANDA', 'NIFTY-MULE',\n",
       "       'TOURMALINE-MOUSE', 'ANNOYING-SPONGE', 'ROSE-KINGFISHER',\n",
       "       'BEAUTIFUL-HIPPO', 'VORACIOUS-PARROT', 'STOIC-KOEL',\n",
       "       'COBALT-CATFISH', 'CERULEAN-NAUTILUS', 'PRAGMATIC-MASTIFF',\n",
       "       'RAPID-CARACARA', 'COBALT-MALKOHA', 'SAGE-PRAWN',\n",
       "       'ANGELIC-REINDEER', 'INESCAPABLE-QUOKKA', 'DIDACTIC-HORNET',\n",
       "       'SINGING-HONEYBEE', 'LOUD-OCELOT', 'LOUTISH-PANDA', 'ZIRCON-CAMEL',\n",
       "       'GIGANTIC-EARWIG', 'PREMIUM-MOTH'], dtype=object)"
      ]
     },
     "execution_count": 3,
     "metadata": {},
     "output_type": "execute_result"
    }
   ],
   "source": [
    "engine_metadata[\"PLANT_NAME\"].unique()"
   ]
  },
  {
   "cell_type": "code",
   "execution_count": 4,
   "id": "8d5e84cc",
   "metadata": {
    "execution": {
     "iopub.execute_input": "2022-03-12T20:37:53.532339Z",
     "iopub.status.busy": "2022-03-12T20:37:53.531734Z",
     "iopub.status.idle": "2022-03-12T20:37:53.547044Z",
     "shell.execute_reply": "2022-03-12T20:37:53.547591Z",
     "shell.execute_reply.started": "2022-03-12T20:11:49.594441Z"
    },
    "papermill": {
     "duration": 0.030659,
     "end_time": "2022-03-12T20:37:53.547759",
     "exception": false,
     "start_time": "2022-03-12T20:37:53.517100",
     "status": "completed"
    },
    "tags": []
   },
   "outputs": [
    {
     "data": {
      "text/html": [
       "<div>\n",
       "<style scoped>\n",
       "    .dataframe tbody tr th:only-of-type {\n",
       "        vertical-align: middle;\n",
       "    }\n",
       "\n",
       "    .dataframe tbody tr th {\n",
       "        vertical-align: top;\n",
       "    }\n",
       "\n",
       "    .dataframe thead th {\n",
       "        text-align: right;\n",
       "    }\n",
       "</style>\n",
       "<table border=\"1\" class=\"dataframe\">\n",
       "  <thead>\n",
       "    <tr style=\"text-align: right;\">\n",
       "      <th></th>\n",
       "      <th>CUSTOMER_NAME</th>\n",
       "      <th>PLANT_NAME</th>\n",
       "      <th>ENGINE_ID</th>\n",
       "      <th>FILE_ID</th>\n",
       "    </tr>\n",
       "  </thead>\n",
       "  <tbody>\n",
       "    <tr>\n",
       "      <th>32</th>\n",
       "      <td>BUSY</td>\n",
       "      <td>ANCIENT-WASP</td>\n",
       "      <td>ENGINE_3</td>\n",
       "      <td>data_33.csv</td>\n",
       "    </tr>\n",
       "  </tbody>\n",
       "</table>\n",
       "</div>"
      ],
      "text/plain": [
       "   CUSTOMER_NAME    PLANT_NAME ENGINE_ID      FILE_ID\n",
       "32          BUSY  ANCIENT-WASP  ENGINE_3  data_33.csv"
      ]
     },
     "execution_count": 4,
     "metadata": {},
     "output_type": "execute_result"
    }
   ],
   "source": [
    "engine_metadata[(engine_metadata[\"PLANT_NAME\"] == \"ANCIENT-WASP\") & (engine_metadata[\"ENGINE_ID\"] == \"ENGINE_3\")]"
   ]
  },
  {
   "cell_type": "code",
   "execution_count": 5,
   "id": "cc0908cc",
   "metadata": {
    "execution": {
     "iopub.execute_input": "2022-03-12T20:37:53.577738Z",
     "iopub.status.busy": "2022-03-12T20:37:53.575619Z",
     "iopub.status.idle": "2022-03-12T20:37:53.602448Z",
     "shell.execute_reply": "2022-03-12T20:37:53.603034Z",
     "shell.execute_reply.started": "2022-03-12T20:13:35.854947Z"
    },
    "papermill": {
     "duration": 0.042906,
     "end_time": "2022-03-12T20:37:53.603213",
     "exception": false,
     "start_time": "2022-03-12T20:37:53.560307",
     "status": "completed"
    },
    "tags": []
   },
   "outputs": [],
   "source": [
    "Ancient_wasp_engine3 = pd.read_csv(\"/kaggle/input/0db0ed38-868c-40d2-bcbd-bcedb88543cf/dataset/dataset/data_33.csv\")"
   ]
  },
  {
   "cell_type": "code",
   "execution_count": 6,
   "id": "37eed6cd",
   "metadata": {
    "execution": {
     "iopub.execute_input": "2022-03-12T20:37:53.631897Z",
     "iopub.status.busy": "2022-03-12T20:37:53.631028Z",
     "iopub.status.idle": "2022-03-12T20:37:53.645458Z",
     "shell.execute_reply": "2022-03-12T20:37:53.644977Z",
     "shell.execute_reply.started": "2022-03-12T20:13:36.093143Z"
    },
    "papermill": {
     "duration": 0.029644,
     "end_time": "2022-03-12T20:37:53.645610",
     "exception": false,
     "start_time": "2022-03-12T20:37:53.615966",
     "status": "completed"
    },
    "tags": []
   },
   "outputs": [
    {
     "data": {
      "text/html": [
       "<div>\n",
       "<style scoped>\n",
       "    .dataframe tbody tr th:only-of-type {\n",
       "        vertical-align: middle;\n",
       "    }\n",
       "\n",
       "    .dataframe tbody tr th {\n",
       "        vertical-align: top;\n",
       "    }\n",
       "\n",
       "    .dataframe thead th {\n",
       "        text-align: right;\n",
       "    }\n",
       "</style>\n",
       "<table border=\"1\" class=\"dataframe\">\n",
       "  <thead>\n",
       "    <tr style=\"text-align: right;\">\n",
       "      <th></th>\n",
       "      <th>Unnamed: 0</th>\n",
       "      <th>CMP_SPEED</th>\n",
       "      <th>POWER</th>\n",
       "      <th>FUEL_FLOW</th>\n",
       "      <th>CO2</th>\n",
       "    </tr>\n",
       "  </thead>\n",
       "  <tbody>\n",
       "    <tr>\n",
       "      <th>0</th>\n",
       "      <td>01/01/2021 00:00</td>\n",
       "      <td>5589.869257</td>\n",
       "      <td>4900.793536</td>\n",
       "      <td>0.451669</td>\n",
       "      <td>1.229985</td>\n",
       "    </tr>\n",
       "    <tr>\n",
       "      <th>1</th>\n",
       "      <td>01/01/2021 01:00</td>\n",
       "      <td>5586.765793</td>\n",
       "      <td>4879.848427</td>\n",
       "      <td>0.450786</td>\n",
       "      <td>1.227582</td>\n",
       "    </tr>\n",
       "    <tr>\n",
       "      <th>2</th>\n",
       "      <td>01/01/2021 02:00</td>\n",
       "      <td>5599.140667</td>\n",
       "      <td>4902.774026</td>\n",
       "      <td>0.451686</td>\n",
       "      <td>1.230033</td>\n",
       "    </tr>\n",
       "    <tr>\n",
       "      <th>3</th>\n",
       "      <td>01/01/2021 03:00</td>\n",
       "      <td>5601.607464</td>\n",
       "      <td>4902.992111</td>\n",
       "      <td>0.451230</td>\n",
       "      <td>1.228792</td>\n",
       "    </tr>\n",
       "    <tr>\n",
       "      <th>4</th>\n",
       "      <td>01/01/2021 04:00</td>\n",
       "      <td>5573.922031</td>\n",
       "      <td>4878.853341</td>\n",
       "      <td>0.450572</td>\n",
       "      <td>1.227000</td>\n",
       "    </tr>\n",
       "    <tr>\n",
       "      <th>...</th>\n",
       "      <td>...</td>\n",
       "      <td>...</td>\n",
       "      <td>...</td>\n",
       "      <td>...</td>\n",
       "      <td>...</td>\n",
       "    </tr>\n",
       "    <tr>\n",
       "      <th>8756</th>\n",
       "      <td>31/12/2021 20:00</td>\n",
       "      <td>0.000000</td>\n",
       "      <td>NaN</td>\n",
       "      <td>NaN</td>\n",
       "      <td>NaN</td>\n",
       "    </tr>\n",
       "    <tr>\n",
       "      <th>8757</th>\n",
       "      <td>31/12/2021 21:00</td>\n",
       "      <td>0.000000</td>\n",
       "      <td>NaN</td>\n",
       "      <td>NaN</td>\n",
       "      <td>NaN</td>\n",
       "    </tr>\n",
       "    <tr>\n",
       "      <th>8758</th>\n",
       "      <td>31/12/2021 22:00</td>\n",
       "      <td>0.000000</td>\n",
       "      <td>NaN</td>\n",
       "      <td>NaN</td>\n",
       "      <td>NaN</td>\n",
       "    </tr>\n",
       "    <tr>\n",
       "      <th>8759</th>\n",
       "      <td>31/12/2021 23:00</td>\n",
       "      <td>0.000000</td>\n",
       "      <td>NaN</td>\n",
       "      <td>NaN</td>\n",
       "      <td>NaN</td>\n",
       "    </tr>\n",
       "    <tr>\n",
       "      <th>8760</th>\n",
       "      <td>01/01/2022 00:00</td>\n",
       "      <td>0.000000</td>\n",
       "      <td>NaN</td>\n",
       "      <td>NaN</td>\n",
       "      <td>NaN</td>\n",
       "    </tr>\n",
       "  </tbody>\n",
       "</table>\n",
       "<p>8761 rows × 5 columns</p>\n",
       "</div>"
      ],
      "text/plain": [
       "            Unnamed: 0    CMP_SPEED        POWER  FUEL_FLOW       CO2\n",
       "0     01/01/2021 00:00  5589.869257  4900.793536   0.451669  1.229985\n",
       "1     01/01/2021 01:00  5586.765793  4879.848427   0.450786  1.227582\n",
       "2     01/01/2021 02:00  5599.140667  4902.774026   0.451686  1.230033\n",
       "3     01/01/2021 03:00  5601.607464  4902.992111   0.451230  1.228792\n",
       "4     01/01/2021 04:00  5573.922031  4878.853341   0.450572  1.227000\n",
       "...                ...          ...          ...        ...       ...\n",
       "8756  31/12/2021 20:00     0.000000          NaN        NaN       NaN\n",
       "8757  31/12/2021 21:00     0.000000          NaN        NaN       NaN\n",
       "8758  31/12/2021 22:00     0.000000          NaN        NaN       NaN\n",
       "8759  31/12/2021 23:00     0.000000          NaN        NaN       NaN\n",
       "8760  01/01/2022 00:00     0.000000          NaN        NaN       NaN\n",
       "\n",
       "[8761 rows x 5 columns]"
      ]
     },
     "execution_count": 6,
     "metadata": {},
     "output_type": "execute_result"
    }
   ],
   "source": [
    "Ancient_wasp_engine3"
   ]
  },
  {
   "cell_type": "code",
   "execution_count": 7,
   "id": "0938ce2f",
   "metadata": {
    "execution": {
     "iopub.execute_input": "2022-03-12T20:37:53.677105Z",
     "iopub.status.busy": "2022-03-12T20:37:53.676411Z",
     "iopub.status.idle": "2022-03-12T20:37:53.692753Z",
     "shell.execute_reply": "2022-03-12T20:37:53.693271Z",
     "shell.execute_reply.started": "2022-03-12T20:17:56.212397Z"
    },
    "papermill": {
     "duration": 0.034681,
     "end_time": "2022-03-12T20:37:53.693436",
     "exception": false,
     "start_time": "2022-03-12T20:37:53.658755",
     "status": "completed"
    },
    "tags": []
   },
   "outputs": [
    {
     "data": {
      "text/html": [
       "<div>\n",
       "<style scoped>\n",
       "    .dataframe tbody tr th:only-of-type {\n",
       "        vertical-align: middle;\n",
       "    }\n",
       "\n",
       "    .dataframe tbody tr th {\n",
       "        vertical-align: top;\n",
       "    }\n",
       "\n",
       "    .dataframe thead th {\n",
       "        text-align: right;\n",
       "    }\n",
       "</style>\n",
       "<table border=\"1\" class=\"dataframe\">\n",
       "  <thead>\n",
       "    <tr style=\"text-align: right;\">\n",
       "      <th></th>\n",
       "      <th>ID</th>\n",
       "      <th>HOURS</th>\n",
       "    </tr>\n",
       "  </thead>\n",
       "  <tbody>\n",
       "    <tr>\n",
       "      <th>8756</th>\n",
       "      <td>8756</td>\n",
       "      <td>6624</td>\n",
       "    </tr>\n",
       "    <tr>\n",
       "      <th>8757</th>\n",
       "      <td>8757</td>\n",
       "      <td>6625</td>\n",
       "    </tr>\n",
       "    <tr>\n",
       "      <th>8758</th>\n",
       "      <td>8758</td>\n",
       "      <td>6626</td>\n",
       "    </tr>\n",
       "    <tr>\n",
       "      <th>8759</th>\n",
       "      <td>8759</td>\n",
       "      <td>6627</td>\n",
       "    </tr>\n",
       "    <tr>\n",
       "      <th>8760</th>\n",
       "      <td>8760</td>\n",
       "      <td>6628</td>\n",
       "    </tr>\n",
       "  </tbody>\n",
       "</table>\n",
       "</div>"
      ],
      "text/plain": [
       "        ID  HOURS\n",
       "8756  8756   6624\n",
       "8757  8757   6625\n",
       "8758  8758   6626\n",
       "8759  8759   6627\n",
       "8760  8760   6628"
      ]
     },
     "execution_count": 7,
     "metadata": {},
     "output_type": "execute_result"
    }
   ],
   "source": [
    "sample_submission = pd.read_csv(\"/kaggle/input/0db0ed38-868c-40d2-bcbd-bcedb88543cf/sample_submission.csv\")\n",
    "sample_submission.tail()"
   ]
  },
  {
   "cell_type": "code",
   "execution_count": 8,
   "id": "21d117e6",
   "metadata": {
    "execution": {
     "iopub.execute_input": "2022-03-12T20:37:53.724802Z",
     "iopub.status.busy": "2022-03-12T20:37:53.723866Z",
     "iopub.status.idle": "2022-03-12T20:37:53.729217Z",
     "shell.execute_reply": "2022-03-12T20:37:53.729787Z",
     "shell.execute_reply.started": "2022-03-12T20:33:00.814021Z"
    },
    "papermill": {
     "duration": 0.022701,
     "end_time": "2022-03-12T20:37:53.729966",
     "exception": false,
     "start_time": "2022-03-12T20:37:53.707265",
     "status": "completed"
    },
    "tags": []
   },
   "outputs": [],
   "source": [
    "ID = [i for i in range(8761)]\n",
    "HOURS = []"
   ]
  },
  {
   "cell_type": "code",
   "execution_count": 9,
   "id": "af07eec5",
   "metadata": {
    "execution": {
     "iopub.execute_input": "2022-03-12T20:37:53.760822Z",
     "iopub.status.busy": "2022-03-12T20:37:53.760216Z",
     "iopub.status.idle": "2022-03-12T20:37:53.927843Z",
     "shell.execute_reply": "2022-03-12T20:37:53.928342Z",
     "shell.execute_reply.started": "2022-03-12T20:33:01.213754Z"
    },
    "papermill": {
     "duration": 0.184889,
     "end_time": "2022-03-12T20:37:53.928521",
     "exception": false,
     "start_time": "2022-03-12T20:37:53.743632",
     "status": "completed"
    },
    "tags": []
   },
   "outputs": [],
   "source": [
    "for i in ID:\n",
    "    try:\n",
    "        if (Ancient_wasp_engine3.loc[i, \"CMP_SPEED\"] != 0) & (Ancient_wasp_engine3.loc[i+1, \"CMP_SPEED\"] !=0):\n",
    "            try:\n",
    "                HOURS.append(HOURS[-1] + 1)\n",
    "            except IndexError:\n",
    "                HOURS.append(1)\n",
    "        else:\n",
    "            HOURS.append(HOURS[-1] + 0)\n",
    "    except KeyError:\n",
    "        HOURS.append(HOURS[-1])"
   ]
  },
  {
   "cell_type": "code",
   "execution_count": 10,
   "id": "e6adfb58",
   "metadata": {
    "execution": {
     "iopub.execute_input": "2022-03-12T20:37:53.963550Z",
     "iopub.status.busy": "2022-03-12T20:37:53.962973Z",
     "iopub.status.idle": "2022-03-12T20:37:53.965217Z",
     "shell.execute_reply": "2022-03-12T20:37:53.965642Z",
     "shell.execute_reply.started": "2022-03-12T20:33:08.872379Z"
    },
    "papermill": {
     "duration": 0.02155,
     "end_time": "2022-03-12T20:37:53.965797",
     "exception": false,
     "start_time": "2022-03-12T20:37:53.944247",
     "status": "completed"
    },
    "tags": []
   },
   "outputs": [
    {
     "data": {
      "text/plain": [
       "6922"
      ]
     },
     "execution_count": 10,
     "metadata": {},
     "output_type": "execute_result"
    }
   ],
   "source": [
    "HOURS[8760]"
   ]
  },
  {
   "cell_type": "code",
   "execution_count": 11,
   "id": "61309ee7",
   "metadata": {
    "execution": {
     "iopub.execute_input": "2022-03-12T20:37:53.995923Z",
     "iopub.status.busy": "2022-03-12T20:37:53.995359Z",
     "iopub.status.idle": "2022-03-12T20:37:53.999043Z",
     "shell.execute_reply": "2022-03-12T20:37:53.999523Z",
     "shell.execute_reply.started": "2022-03-12T20:34:33.789689Z"
    },
    "papermill": {
     "duration": 0.020237,
     "end_time": "2022-03-12T20:37:53.999703",
     "exception": false,
     "start_time": "2022-03-12T20:37:53.979466",
     "status": "completed"
    },
    "tags": []
   },
   "outputs": [],
   "source": [
    "df = pd.DataFrame()"
   ]
  },
  {
   "cell_type": "code",
   "execution_count": 12,
   "id": "c2175ca5",
   "metadata": {
    "execution": {
     "iopub.execute_input": "2022-03-12T20:37:54.032634Z",
     "iopub.status.busy": "2022-03-12T20:37:54.031994Z",
     "iopub.status.idle": "2022-03-12T20:37:54.048226Z",
     "shell.execute_reply": "2022-03-12T20:37:54.048775Z",
     "shell.execute_reply.started": "2022-03-12T20:35:08.421564Z"
    },
    "papermill": {
     "duration": 0.035264,
     "end_time": "2022-03-12T20:37:54.048938",
     "exception": false,
     "start_time": "2022-03-12T20:37:54.013674",
     "status": "completed"
    },
    "tags": []
   },
   "outputs": [
    {
     "data": {
      "text/html": [
       "<div>\n",
       "<style scoped>\n",
       "    .dataframe tbody tr th:only-of-type {\n",
       "        vertical-align: middle;\n",
       "    }\n",
       "\n",
       "    .dataframe tbody tr th {\n",
       "        vertical-align: top;\n",
       "    }\n",
       "\n",
       "    .dataframe thead th {\n",
       "        text-align: right;\n",
       "    }\n",
       "</style>\n",
       "<table border=\"1\" class=\"dataframe\">\n",
       "  <thead>\n",
       "    <tr style=\"text-align: right;\">\n",
       "      <th></th>\n",
       "      <th>ID</th>\n",
       "      <th>HOURS</th>\n",
       "    </tr>\n",
       "  </thead>\n",
       "  <tbody>\n",
       "    <tr>\n",
       "      <th>0</th>\n",
       "      <td>0</td>\n",
       "      <td>1</td>\n",
       "    </tr>\n",
       "    <tr>\n",
       "      <th>1</th>\n",
       "      <td>1</td>\n",
       "      <td>2</td>\n",
       "    </tr>\n",
       "    <tr>\n",
       "      <th>2</th>\n",
       "      <td>2</td>\n",
       "      <td>3</td>\n",
       "    </tr>\n",
       "    <tr>\n",
       "      <th>3</th>\n",
       "      <td>3</td>\n",
       "      <td>4</td>\n",
       "    </tr>\n",
       "    <tr>\n",
       "      <th>4</th>\n",
       "      <td>4</td>\n",
       "      <td>5</td>\n",
       "    </tr>\n",
       "    <tr>\n",
       "      <th>...</th>\n",
       "      <td>...</td>\n",
       "      <td>...</td>\n",
       "    </tr>\n",
       "    <tr>\n",
       "      <th>8756</th>\n",
       "      <td>8756</td>\n",
       "      <td>6922</td>\n",
       "    </tr>\n",
       "    <tr>\n",
       "      <th>8757</th>\n",
       "      <td>8757</td>\n",
       "      <td>6922</td>\n",
       "    </tr>\n",
       "    <tr>\n",
       "      <th>8758</th>\n",
       "      <td>8758</td>\n",
       "      <td>6922</td>\n",
       "    </tr>\n",
       "    <tr>\n",
       "      <th>8759</th>\n",
       "      <td>8759</td>\n",
       "      <td>6922</td>\n",
       "    </tr>\n",
       "    <tr>\n",
       "      <th>8760</th>\n",
       "      <td>8760</td>\n",
       "      <td>6922</td>\n",
       "    </tr>\n",
       "  </tbody>\n",
       "</table>\n",
       "<p>8761 rows × 2 columns</p>\n",
       "</div>"
      ],
      "text/plain": [
       "        ID  HOURS\n",
       "0        0      1\n",
       "1        1      2\n",
       "2        2      3\n",
       "3        3      4\n",
       "4        4      5\n",
       "...    ...    ...\n",
       "8756  8756   6922\n",
       "8757  8757   6922\n",
       "8758  8758   6922\n",
       "8759  8759   6922\n",
       "8760  8760   6922\n",
       "\n",
       "[8761 rows x 2 columns]"
      ]
     },
     "execution_count": 12,
     "metadata": {},
     "output_type": "execute_result"
    }
   ],
   "source": [
    "df[\"ID\"] = ID\n",
    "df[\"HOURS\"] = HOURS\n",
    "\n",
    "df"
   ]
  },
  {
   "cell_type": "code",
   "execution_count": 13,
   "id": "fd8584a5",
   "metadata": {
    "execution": {
     "iopub.execute_input": "2022-03-12T20:37:54.080632Z",
     "iopub.status.busy": "2022-03-12T20:37:54.079991Z",
     "iopub.status.idle": "2022-03-12T20:37:54.100791Z",
     "shell.execute_reply": "2022-03-12T20:37:54.100161Z",
     "shell.execute_reply.started": "2022-03-12T20:37:11.374271Z"
    },
    "papermill": {
     "duration": 0.037738,
     "end_time": "2022-03-12T20:37:54.100933",
     "exception": false,
     "start_time": "2022-03-12T20:37:54.063195",
     "status": "completed"
    },
    "tags": []
   },
   "outputs": [],
   "source": [
    "df.to_csv(\"hours_challenge.csv\")"
   ]
  },
  {
   "cell_type": "code",
   "execution_count": null,
   "id": "5c65da0f",
   "metadata": {
    "papermill": {
     "duration": 0.01461,
     "end_time": "2022-03-12T20:37:54.131725",
     "exception": false,
     "start_time": "2022-03-12T20:37:54.117115",
     "status": "completed"
    },
    "tags": []
   },
   "outputs": [],
   "source": []
  }
 ],
 "metadata": {
  "kernelspec": {
   "display_name": "Python 3",
   "language": "python",
   "name": "python3"
  },
  "language_info": {
   "codemirror_mode": {
    "name": "ipython",
    "version": 3
   },
   "file_extension": ".py",
   "mimetype": "text/x-python",
   "name": "python",
   "nbconvert_exporter": "python",
   "pygments_lexer": "ipython3",
   "version": "3.7.12"
  },
  "papermill": {
   "default_parameters": {},
   "duration": 10.320524,
   "end_time": "2022-03-12T20:37:54.756618",
   "environment_variables": {},
   "exception": null,
   "input_path": "__notebook__.ipynb",
   "output_path": "__notebook__.ipynb",
   "parameters": {},
   "start_time": "2022-03-12T20:37:44.436094",
   "version": "2.3.3"
  }
 },
 "nbformat": 4,
 "nbformat_minor": 5
}
